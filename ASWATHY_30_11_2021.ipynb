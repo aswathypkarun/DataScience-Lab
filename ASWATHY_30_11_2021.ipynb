{
  "nbformat": 4,
  "nbformat_minor": 0,
  "metadata": {
    "colab": {
      "name": "ASWATHY-30/11/2021",
      "provenance": [],
      "collapsed_sections": [],
      "include_colab_link": true
    },
    "kernelspec": {
      "name": "python3",
      "display_name": "Python 3"
    }
  },
  "cells": [
    {
      "cell_type": "markdown",
      "metadata": {
        "id": "view-in-github",
        "colab_type": "text"
      },
      "source": [
        "<a href=\"https://colab.research.google.com/github/aswathypkarun/DataScience-Lab/blob/main/ASWATHY_30_11_2021.ipynb\" target=\"_parent\"><img src=\"https://colab.research.google.com/assets/colab-badge.svg\" alt=\"Open In Colab\"/></a>"
      ]
    },
    {
      "cell_type": "markdown",
      "metadata": {
        "id": "2FbiXuSJANTj"
      },
      "source": [
        "#  Matrix Operations"
      ]
    },
    {
      "cell_type": "markdown",
      "metadata": {
        "id": "a7HGCnyGS_tA"
      },
      "source": [
        "#### Matrices"
      ]
    },
    {
      "cell_type": "code",
      "metadata": {
        "id": "epy_5UAiM5va",
        "colab": {
          "base_uri": "https://localhost:8080/"
        },
        "outputId": "c681bbf8-54ea-4858-c980-11d2b0bc8f64"
      },
      "source": [
        "# Create a matrix using the 'matrix()' function of the 'numpy' module.\n",
        "import numpy as np\n",
        "x=np.matrix('1 2 3;4 5 6;7 8 9')\n",
        "x"
      ],
      "execution_count": null,
      "outputs": [
        {
          "output_type": "execute_result",
          "data": {
            "text/plain": [
              "matrix([[1, 2, 3],\n",
              "        [4, 5, 6],\n",
              "        [7, 8, 9]])"
            ]
          },
          "metadata": {},
          "execution_count": 2
        }
      ]
    },
    {
      "cell_type": "code",
      "metadata": {
        "id": "vNZ6B267NSBn",
        "colab": {
          "base_uri": "https://localhost:8080/"
        },
        "outputId": "b7496038-1a28-4dda-fb50-1e4aaa03ea13"
      },
      "source": [
        "# Convert a nested Python list into a matrix using the 'matrix()' function of the 'numpy' module.\n",
        "import numpy as np\n",
        "x=np.matrix([[8,7],[3,5]])\n",
        "x"
      ],
      "execution_count": null,
      "outputs": [
        {
          "output_type": "execute_result",
          "data": {
            "text/plain": [
              "matrix([[8, 7],\n",
              "        [3, 5]])"
            ]
          },
          "metadata": {},
          "execution_count": 5
        }
      ]
    },
    {
      "cell_type": "markdown",
      "metadata": {
        "id": "aMYY5QGVS7AR"
      },
      "source": [
        "#### Matrix Multiplication\n"
      ]
    },
    {
      "cell_type": "markdown",
      "metadata": {
        "id": "F02GWaeOOv8B"
      },
      "source": [
        "\n",
        "$$\\begin{bmatrix} 8 & 7 \\\\ 3\t& -5\t\\\\\\end{bmatrix} \\begin{bmatrix} 3 \\\\ 2 \\\\\\end{bmatrix}$$\n",
        "\n",
        "To multiply two matrices, you have to use the `matmul()` function of the `numpy` module. It takes two matrices to be multiplied as inputs and returns a new matrix."
      ]
    },
    {
      "cell_type": "code",
      "metadata": {
        "id": "LXouPp0rNmfl",
        "colab": {
          "base_uri": "https://localhost:8080/"
        },
        "outputId": "5f91074a-b7ef-4707-ff6d-b15e05ac018e"
      },
      "source": [
        "# Multiplication of the above two matrices.\n",
        "x=np.matrix('8 7;3 -5')\n",
        "y=np.matrix('3;2')\n",
        "a=np.matmul(x,y)\n",
        "a"
      ],
      "execution_count": null,
      "outputs": [
        {
          "output_type": "execute_result",
          "data": {
            "text/plain": [
              "matrix([[38],\n",
              "        [-1]])"
            ]
          },
          "metadata": {},
          "execution_count": 6
        }
      ]
    },
    {
      "cell_type": "markdown",
      "metadata": {
        "id": "25p437ShPXO1"
      },
      "source": [
        "**Note:** The number of columns in the first matrix should be the same as the number of rows in the second matrix. Otherwise, you will get `ValueError`"
      ]
    },
    {
      "cell_type": "markdown",
      "metadata": {
        "id": "plpe2GRqTGlK"
      },
      "source": [
        "####  Identity Matrix"
      ]
    },
    {
      "cell_type": "code",
      "metadata": {
        "id": "6eewfaY_XHFk",
        "colab": {
          "base_uri": "https://localhost:8080/"
        },
        "outputId": "d323abbe-7c73-4edd-9fac-056aa44a9883"
      },
      "source": [
        "# Create an identity matrix of the dimension 5 and of 'int' type.\n",
        "import numpy as np\n",
        "id_matrix=np.identity(5,dtype=int)\n",
        "id_matrix"
      ],
      "execution_count": null,
      "outputs": [
        {
          "output_type": "execute_result",
          "data": {
            "text/plain": [
              "array([[1, 0, 0, 0, 0],\n",
              "       [0, 1, 0, 0, 0],\n",
              "       [0, 0, 1, 0, 0],\n",
              "       [0, 0, 0, 1, 0],\n",
              "       [0, 0, 0, 0, 1]])"
            ]
          },
          "metadata": {},
          "execution_count": 7
        }
      ]
    },
    {
      "cell_type": "markdown",
      "metadata": {
        "id": "WZQuoEgxX4yz"
      },
      "source": [
        "Now let's multiply a square matrix with an identity matrix of the same dimension (say 3)."
      ]
    },
    {
      "cell_type": "code",
      "metadata": {
        "id": "D44dik-GWOzp",
        "colab": {
          "base_uri": "https://localhost:8080/"
        },
        "outputId": "4eb54b96-470b-4664-9c00-b96dd292c9b6"
      },
      "source": [
        "# Multiply a square matrix with an identity matrix of the same dimension.\n",
        "same_matrix=np.matrix('1 2 3;4 5 6;7 8 9')\n",
        "id_matrix=np.identity(3,dtype=float)\n",
        "matmult=np.matmul(same_matrix,id_matrix)\n",
        "matmult"
      ],
      "execution_count": null,
      "outputs": [
        {
          "output_type": "execute_result",
          "data": {
            "text/plain": [
              "matrix([[1., 2., 3.],\n",
              "        [4., 5., 6.],\n",
              "        [7., 8., 9.]])"
            ]
          },
          "metadata": {},
          "execution_count": 8
        }
      ]
    },
    {
      "cell_type": "markdown",
      "metadata": {
        "id": "vkRY_gZbM1gX"
      },
      "source": [
        "----"
      ]
    },
    {
      "cell_type": "markdown",
      "metadata": {
        "id": "DoLDbDJ-YUj0"
      },
      "source": [
        "####  Multiplicative Inverse of a Matrix^\n",
        "\n",
        "\n",
        "Eg. let $A$ be a matrix of dimension $3$\n",
        "\n",
        "$$A = \\begin{bmatrix} 1 & 3 & 3 \\\\ 1 & 4 & 3 \\\\ 1 & 3 & 4 \\\\\\end{bmatrix}$$\n",
        "\n",
        "Then its inverse is\n",
        "\n",
        "$$A^{-1} = \\begin{bmatrix} 7 & - 3 & -3 \\\\ -1 & 1 & 0 \\\\ -1 & 0 & 1 \\\\\\end{bmatrix}$$\n",
        "\n",
        "Both $A$ and $A^{-1}$ have the same dimension.\n",
        "\n",
        "If you multiply the matrix $A$ with its inverse, you should get the identity matrix of dimension $3$.\n",
        "\n",
        "$$A^{-1} A = \\begin{bmatrix} 7 & - 3 & -3 \\\\ -1 & 1 & 0 \\\\ -1 & 0 & 1 \\\\\\end{bmatrix} \\begin{bmatrix} 1 & 3 & 3 \\\\ 1 & 4 & 3 \\\\ 1 & 3 & 4 \\\\\\end{bmatrix}$$\n",
        "\n",
        "$$\\Rightarrow A^{-1}A = \\begin{bmatrix} 7 \\times 1 - 3 \\times 1 -3 \\times 1 &7 \\times 3 - 3 \\times 4 -3 \\times 3 & 7 \\times 3 - 3 \\times 3 - 3 \\times 4 \\\\ -1 \\times 1 + 1 \\times 1 + 0 \\times 1 & -1 \\times 3 + 1 \\times 4 + 0 \\times 3 & -1 \\times 3 + 1 \\times 3 + 0 \\times 4 \\\\ -1 \\times 1 + 0 \\times 1 + 1 \\times 1 & -1 \\times 3 + 0 \\times 4 + 1 \\times 3 & -1 \\times 3 + 0 \\times 3 + 1 \\times 4 \\\\\\end{bmatrix}$$\n",
        "\n",
        "$$\\Rightarrow A^{-1}A = \\begin{bmatrix} 1 & 0 & 0 \\\\ 0 & 1 & 0 \\\\ 0 & 0 & 1 \\\\\\end{bmatrix}$$\n"
      ]
    },
    {
      "cell_type": "code",
      "metadata": {
        "id": "LwCmDs6_MXCn",
        "colab": {
          "base_uri": "https://localhost:8080/"
        },
        "outputId": "5fa973d1-839e-4082-87ca-9fb271c3f241"
      },
      "source": [
        "#Multiply the above matrix with its inverse.\n",
        "mat_a=np.matrix('1 3 3;1 4 3;1 3 4')\n",
        "inv_a=np.matrix('7 -3 -3;-1 1 0;-1 0 1')\n",
        "new=np.matmul(mat_a,inv_a)\n",
        "new"
      ],
      "execution_count": null,
      "outputs": [
        {
          "output_type": "execute_result",
          "data": {
            "text/plain": [
              "matrix([[1, 0, 0],\n",
              "        [0, 1, 0],\n",
              "        [0, 0, 1]])"
            ]
          },
          "metadata": {},
          "execution_count": 9
        }
      ]
    },
    {
      "cell_type": "markdown",
      "metadata": {
        "id": "6dGeH1NbkZZl"
      },
      "source": [
        "#### Determinant of a Matrix^^\n",
        "\n",
        "\n",
        "$$X = \\begin{bmatrix} 8 & 7 \\\\ 3\t& -5 \\\\\\end{bmatrix}$$\n",
        "\n",
        " To calculate the determinant value of a square matrix, use the `linalg.det()` function of the `numpy` module.\n",
        "\n",
        "**Syntax:** `np.linalg.det(a)`\n",
        "\n",
        "where `a` is some square matrix."
      ]
    },
    {
      "cell_type": "code",
      "metadata": {
        "id": "Ai-xRdWtzXOu",
        "colab": {
          "base_uri": "https://localhost:8080/"
        },
        "outputId": "30120437-15fa-4b70-fbf7-7e25be938e3d"
      },
      "source": [
        "# Calculate the determinant of the matrix X.\n",
        "x=np.matrix('8 7;3 -5')\n",
        "det_x=np.linalg.det(x)\n",
        "det_x"
      ],
      "execution_count": null,
      "outputs": [
        {
          "output_type": "execute_result",
          "data": {
            "text/plain": [
              "-60.99999999999995"
            ]
          },
          "metadata": {},
          "execution_count": 10
        }
      ]
    },
    {
      "cell_type": "markdown",
      "metadata": {
        "id": "-Y5wSAT5bios"
      },
      "source": [
        "Let's calculate the determinant of the matrix\n",
        "\n",
        "$$A = \\begin{bmatrix} 1 & 3 & 3 \\\\ 1 & 4 & 3 \\\\ 1 & 3 & 4 \\\\\\end{bmatrix}$$\n",
        "\n",
        "using Python."
      ]
    },
    {
      "cell_type": "code",
      "metadata": {
        "id": "20_XDKC4Az-g",
        "colab": {
          "base_uri": "https://localhost:8080/"
        },
        "outputId": "d301ee29-7947-4956-c744-86aa52731d4a"
      },
      "source": [
        "#Calculate the determinant of the above matrix A.\n",
        "x=np.matrix('1 3 3;1 4 3;1 3 4')\n",
        "det_x=np.linalg.det(x)\n",
        "det_x"
      ],
      "execution_count": null,
      "outputs": [
        {
          "output_type": "execute_result",
          "data": {
            "text/plain": [
              "1.0"
            ]
          },
          "metadata": {},
          "execution_count": 11
        }
      ]
    },
    {
      "cell_type": "code",
      "metadata": {
        "id": "jSCBQqbWL8Ul",
        "colab": {
          "base_uri": "https://localhost:8080/"
        },
        "outputId": "9d7a8616-d27c-43a7-c79e-cd54ce763cd5"
      },
      "source": [
        "# Calculate the inverse of the above matrix A.\n",
        "mat_a=np.linalg.inv(x)\n",
        "mat_a"
      ],
      "execution_count": null,
      "outputs": [
        {
          "output_type": "execute_result",
          "data": {
            "text/plain": [
              "matrix([[ 7., -3., -3.],\n",
              "        [-1.,  1.,  0.],\n",
              "        [-1.,  0.,  1.]])"
            ]
          },
          "metadata": {},
          "execution_count": 12
        }
      ]
    },
    {
      "cell_type": "code",
      "metadata": {
        "id": "-9gj_oaLehon",
        "colab": {
          "base_uri": "https://localhost:8080/",
          "height": 206
        },
        "outputId": "48765c1f-8add-405c-b608-faeb2a414777"
      },
      "source": [
        "#Create a dictionary to store weatherdata and convert it to a dtaframe\n",
        "import pandas as pd\n",
        "weather={'date':['11/10/19','12/10/19','13/10/19','14/10/19','15/10/19'],\n",
        "         'city':['Trivandrum','Kochi','Kollam','Kottayam','Kolenchery'],\n",
        "         'temp':['31','32','31','33','27'],\n",
        "         'windspeed':[44,55,34,43,42]}\n",
        "df=pd.DataFrame(weather)\n",
        "# Display the first five rows of dataframe\n",
        "df.head()\n",
        "\n",
        "#Display the last five rows of dataframe\n",
        "df.tail()\n"
      ],
      "execution_count": null,
      "outputs": [
        {
          "output_type": "execute_result",
          "data": {
            "text/html": [
              "<div>\n",
              "<style scoped>\n",
              "    .dataframe tbody tr th:only-of-type {\n",
              "        vertical-align: middle;\n",
              "    }\n",
              "\n",
              "    .dataframe tbody tr th {\n",
              "        vertical-align: top;\n",
              "    }\n",
              "\n",
              "    .dataframe thead th {\n",
              "        text-align: right;\n",
              "    }\n",
              "</style>\n",
              "<table border=\"1\" class=\"dataframe\">\n",
              "  <thead>\n",
              "    <tr style=\"text-align: right;\">\n",
              "      <th></th>\n",
              "      <th>date</th>\n",
              "      <th>city</th>\n",
              "      <th>temp</th>\n",
              "      <th>windspeed</th>\n",
              "    </tr>\n",
              "  </thead>\n",
              "  <tbody>\n",
              "    <tr>\n",
              "      <th>0</th>\n",
              "      <td>11/10/19</td>\n",
              "      <td>Trivandrum</td>\n",
              "      <td>31</td>\n",
              "      <td>44</td>\n",
              "    </tr>\n",
              "    <tr>\n",
              "      <th>1</th>\n",
              "      <td>12/10/19</td>\n",
              "      <td>Kochi</td>\n",
              "      <td>32</td>\n",
              "      <td>55</td>\n",
              "    </tr>\n",
              "    <tr>\n",
              "      <th>2</th>\n",
              "      <td>13/10/19</td>\n",
              "      <td>Kollam</td>\n",
              "      <td>31</td>\n",
              "      <td>34</td>\n",
              "    </tr>\n",
              "    <tr>\n",
              "      <th>3</th>\n",
              "      <td>14/10/19</td>\n",
              "      <td>Kottayam</td>\n",
              "      <td>33</td>\n",
              "      <td>43</td>\n",
              "    </tr>\n",
              "    <tr>\n",
              "      <th>4</th>\n",
              "      <td>15/10/19</td>\n",
              "      <td>Kolenchery</td>\n",
              "      <td>27</td>\n",
              "      <td>42</td>\n",
              "    </tr>\n",
              "  </tbody>\n",
              "</table>\n",
              "</div>"
            ],
            "text/plain": [
              "       date        city temp  windspeed\n",
              "0  11/10/19  Trivandrum   31         44\n",
              "1  12/10/19       Kochi   32         55\n",
              "2  13/10/19      Kollam   31         34\n",
              "3  14/10/19    Kottayam   33         43\n",
              "4  15/10/19  Kolenchery   27         42"
            ]
          },
          "metadata": {},
          "execution_count": 16
        }
      ]
    }
  ]
}