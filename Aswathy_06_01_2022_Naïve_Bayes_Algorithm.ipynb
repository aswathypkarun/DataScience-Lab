{
  "nbformat": 4,
  "nbformat_minor": 0,
  "metadata": {
    "colab": {
      "name": "Aswathy-06-01-2022-Naïve Bayes Algorithm.ipynb",
      "provenance": [],
      "collapsed_sections": [],
      "include_colab_link": true
    },
    "kernelspec": {
      "name": "python3",
      "display_name": "Python 3"
    },
    "language_info": {
      "name": "python"
    }
  },
  "cells": [
    {
      "cell_type": "markdown",
      "metadata": {
        "id": "view-in-github",
        "colab_type": "text"
      },
      "source": [
        "<a href=\"https://colab.research.google.com/github/aswathypkarun/DataScience-Lab/blob/main/Aswathy_06_01_2022_Na%C3%AFve_Bayes_Algorithm.ipynb\" target=\"_parent\"><img src=\"https://colab.research.google.com/assets/colab-badge.svg\" alt=\"Open In Colab\"/></a>"
      ]
    },
    {
      "cell_type": "markdown",
      "source": [
        "Aim: Program to implement Naïve Bayes Algorithm using any standard dataset\n",
        "available in the public domain and find the accuracy of the algorithm"
      ],
      "metadata": {
        "id": "f4TwDjLCpTcn"
      }
    },
    {
      "cell_type": "markdown",
      "source": [
        "\n",
        "Short notes: Naive Bayes\n",
        "\n",
        "Bayes’ Theorem provides a way that we can calculate the probability of a piece of data belonging to a given class, given our prior knowledge. Bayes’ Theorem is stated as:\n",
        "\n",
        "P(class|data) = (P(data|class) * P(class)) / P(data)\n",
        "\n",
        "Where P(class|data) is the probability of class given the provided data."
      ],
      "metadata": {
        "id": "_23W0JVJq1-V"
      }
    },
    {
      "cell_type": "markdown",
      "source": [
        "We are using Iris Dataset. The Iris Flower Dataset involves predicting the flower species given measurements of iris flowers.\n",
        "\n",
        "It is a multiclass classification problem. The number of observations for each class is balanced. There are 150 observations with 4 input variables and 1 output variable. The variable names are as follows:\n",
        "\n",
        "Sepal length in cm.\n",
        "\n",
        "Sepal width in cm.\n",
        "\n",
        "Petal length in cm.\n",
        "\n",
        "Petal width in cm., and\n",
        "\n",
        "Class.\n",
        "\n",
        "Algorithm:\n",
        "\n",
        "Step 1: Separate By Class.\n",
        "\n",
        "Step 2: Summarize Dataset.\n",
        "\n",
        "Step 3: Summarize Data By Class.\n",
        "\n",
        "Step 4: Gaussian Probability Density Function.\n",
        "\n",
        "Step 5: Class Probabilities."
      ],
      "metadata": {
        "id": "Aq3NJZhGrENv"
      }
    },
    {
      "cell_type": "code",
      "source": [
        "#Import Modules\n",
        "import numpy as np\n",
        "import pandas as pd\n",
        "from sklearn import neighbors, datasets, preprocessing\n",
        "from sklearn.model_selection import train_test_split\n",
        "#Load iris dataset & do train_test_split \n",
        "iris=datasets.load_iris()\n",
        "X=iris.data[ : , : ]\n",
        "y=iris.target\n",
        "Xtrain,Xtest,y_train,y_test=train_test_split(X,y,stratify=y,random_state=42,test_size=0.33)"
      ],
      "metadata": {
        "id": "N3sWnWz_rxIR"
      },
      "execution_count": null,
      "outputs": []
    },
    {
      "cell_type": "code",
      "source": [
        "#Feature Scaling\n",
        "scaler=preprocessing.StandardScaler().fit(Xtrain)\n",
        "Xtrain=scaler.transform(Xtrain)\n",
        "Xtest=scaler.transform(Xtest)\n",
        "Xtrain"
      ],
      "metadata": {
        "id": "Jq-Uyizutrxu",
        "colab": {
          "base_uri": "https://localhost:8080/"
        },
        "outputId": "a2c4e9fc-2f4e-4c4b-9a0d-3321424e5e1e"
      },
      "execution_count": null,
      "outputs": [
        {
          "output_type": "execute_result",
          "data": {
            "text/plain": [
              "array([[ 4.89131136e-01,  7.14932910e-01,  1.03425476e+00,\n",
              "         1.55502776e+00],\n",
              "       [-9.18440479e-01,  9.34237484e-01, -1.33168750e+00,\n",
              "        -1.16400496e+00],\n",
              "       [-9.73570367e-02, -8.20199106e-01,  7.52594964e-01,\n",
              "         9.07639020e-01],\n",
              "       [-8.01142844e-01, -8.20199106e-01,  7.66114634e-02,\n",
              "         2.60250275e-01],\n",
              "       [-1.50492865e+00,  7.14932910e-01, -1.33168750e+00,\n",
              "        -1.16400496e+00],\n",
              "       [-8.01142844e-01,  2.25006493e+00, -1.27535554e+00,\n",
              "        -1.42296046e+00],\n",
              "       [-2.14654671e-01,  2.90797865e+00, -1.27535554e+00,\n",
              "        -1.03452721e+00],\n",
              "       [ 6.06428771e-01,  5.70191892e-02,  9.77922797e-01,\n",
              "         7.78161271e-01],\n",
              "       [-1.27033338e+00,  5.70191892e-02, -1.21902358e+00,\n",
              "        -1.29348271e+00],\n",
              "       [-1.15303575e+00,  5.70191892e-02, -1.27535554e+00,\n",
              "        -1.29348271e+00],\n",
              "       [ 7.23726405e-01, -6.00894532e-01,  4.70935172e-01,\n",
              "         3.89728024e-01],\n",
              "       [-1.15303575e+00,  5.70191892e-02, -1.27535554e+00,\n",
              "        -1.42296046e+00],\n",
              "       [-9.18440479e-01, -1.25880825e+00, -4.30376162e-01,\n",
              "        -1.28182971e-01],\n",
              "       [ 1.37238232e-01, -1.91672197e+00,  1.32943422e-01,\n",
              "        -2.57660720e-01],\n",
              "       [ 6.06428771e-01, -6.00894532e-01,  1.03425476e+00,\n",
              "         1.16659452e+00],\n",
              "       [ 1.99405979e-02, -1.62285385e-01,  7.52594964e-01,\n",
              "         7.78161271e-01],\n",
              "       [-4.49249940e-01,  2.46936950e+00, -1.33168750e+00,\n",
              "        -1.29348271e+00],\n",
              "       [-1.03573811e+00,  1.15354206e+00, -1.33168750e+00,\n",
              "        -1.29348271e+00],\n",
              "       [ 1.42751221e+00, -1.62285385e-01,  1.20325063e+00,\n",
              "         1.16659452e+00],\n",
              "       [-9.18440479e-01,  1.59215121e+00, -1.05002770e+00,\n",
              "        -1.03452721e+00],\n",
              "       [-9.73570367e-02, -6.00894532e-01,  7.52594964e-01,\n",
              "         1.55502776e+00],\n",
              "       [-6.83845210e-01,  1.37284663e+00, -1.27535554e+00,\n",
              "        -1.29348271e+00],\n",
              "       [-1.27033338e+00,  7.14932910e-01, -1.05002770e+00,\n",
              "        -1.29348271e+00],\n",
              "       [ 2.36589329e+00,  1.59215121e+00,  1.48491042e+00,\n",
              "         1.03711677e+00],\n",
              "       [-1.15303575e+00,  1.15354206e+00, -1.33168750e+00,\n",
              "        -1.42296046e+00],\n",
              "       [ 8.41024040e-01, -3.81589958e-01,  4.70935172e-01,\n",
              "         1.30772526e-01],\n",
              "       [ 3.71833502e-01, -6.00894532e-01,  5.83599089e-01,\n",
              "         7.78161271e-01],\n",
              "       [-4.49249940e-01, -1.25880825e+00,  1.32943422e-01,\n",
              "         1.30772526e-01],\n",
              "       [-1.85682156e+00, -1.62285385e-01, -1.50068337e+00,\n",
              "        -1.42296046e+00],\n",
              "       [-4.49249940e-01, -1.03950368e+00,  3.58271255e-01,\n",
              "         1.29477749e-03],\n",
              "       [-1.27033338e+00, -1.62285385e-01, -1.33168750e+00,\n",
              "        -1.42296046e+00],\n",
              "       [ 9.58321674e-01,  4.95628337e-01,  1.09058671e+00,\n",
              "         1.68450551e+00],\n",
              "       [-4.49249940e-01, -1.47811283e+00,  2.02795050e-02,\n",
              "        -1.28182971e-01],\n",
              "       [ 2.13129802e+00, -1.62285385e-01,  1.31591455e+00,\n",
              "         1.42555001e+00],\n",
              "       [ 3.71833502e-01, -3.81589958e-01,  3.01939297e-01,\n",
              "         1.30772526e-01],\n",
              "       [-1.03573811e+00, -1.62285385e-01, -1.21902358e+00,\n",
              "        -1.29348271e+00],\n",
              "       [-2.14654671e-01, -1.25880825e+00,  6.96263005e-01,\n",
              "         1.03711677e+00],\n",
              "       [-9.18440479e-01,  1.59215121e+00, -1.27535554e+00,\n",
              "        -1.16400496e+00],\n",
              "       [ 6.06428771e-01,  2.76323763e-01,  8.65258881e-01,\n",
              "         1.42555001e+00],\n",
              "       [-1.38763102e+00,  2.76323763e-01, -1.21902358e+00,\n",
              "        -1.29348271e+00],\n",
              "       [-3.31952306e-01, -3.81589958e-01, -9.23844117e-02,\n",
              "         1.30772526e-01],\n",
              "       [-2.14654671e-01, -1.03950368e+00, -1.48716370e-01,\n",
              "        -2.57660720e-01],\n",
              "       [-5.66547575e-01,  1.81145578e+00, -1.38801945e+00,\n",
              "        -1.03452721e+00],\n",
              "       [ 1.19291694e+00,  5.70191892e-02,  9.21590839e-01,\n",
              "         1.16659452e+00],\n",
              "       [-4.49249940e-01, -1.47811283e+00, -3.60524534e-02,\n",
              "        -2.57660720e-01],\n",
              "       [ 8.41024040e-01, -1.62285385e-01,  3.58271255e-01,\n",
              "         2.60250275e-01],\n",
              "       [-4.49249940e-01,  9.34237484e-01, -1.38801945e+00,\n",
              "        -1.29348271e+00],\n",
              "       [-9.73570367e-02, -8.20199106e-01,  7.52594964e-01,\n",
              "         9.07639020e-01],\n",
              "       [ 1.99405979e-02,  2.76323763e-01,  5.83599089e-01,\n",
              "         7.78161271e-01],\n",
              "       [ 2.13129802e+00,  1.59215121e+00,  1.65390630e+00,\n",
              "         1.29607227e+00],\n",
              "       [-1.03573811e+00,  9.34237484e-01, -1.38801945e+00,\n",
              "        -1.16400496e+00],\n",
              "       [-9.73570367e-02, -1.03950368e+00,  1.32943422e-01,\n",
              "         1.29477749e-03],\n",
              "       [-1.73952392e+00, -3.81589958e-01, -1.33168750e+00,\n",
              "        -1.29348271e+00],\n",
              "       [ 4.89131136e-01,  4.95628337e-01,  1.25958259e+00,\n",
              "         1.68450551e+00],\n",
              "       [ 6.06428771e-01, -3.81589958e-01,  3.01939297e-01,\n",
              "         1.30772526e-01],\n",
              "       [ 2.54535867e-01, -6.00894532e-01,  1.32943422e-01,\n",
              "         1.30772526e-01],\n",
              "       [ 1.37238232e-01, -8.20199106e-01,  7.52594964e-01,\n",
              "         5.19205773e-01],\n",
              "       [ 2.54535867e-01, -6.00894532e-01,  5.27267130e-01,\n",
              "         1.29477749e-03],\n",
              "       [ 4.89131136e-01, -1.69741740e+00,  3.58271255e-01,\n",
              "         1.30772526e-01],\n",
              "       [ 9.58321674e-01,  5.70191892e-02,  3.58271255e-01,\n",
              "         2.60250275e-01],\n",
              "       [-3.31952306e-01, -6.00894532e-01,  6.39931047e-01,\n",
              "         1.03711677e+00],\n",
              "       [ 1.07561931e+00, -6.00894532e-01,  5.83599089e-01,\n",
              "         2.60250275e-01],\n",
              "       [ 1.77940512e+00, -6.00894532e-01,  1.31591455e+00,\n",
              "         9.07639020e-01],\n",
              "       [ 4.89131136e-01, -8.20199106e-01,  6.39931047e-01,\n",
              "         7.78161271e-01],\n",
              "       [-1.03573811e+00,  7.14932910e-01, -1.21902358e+00,\n",
              "        -1.03452721e+00],\n",
              "       [ 7.23726405e-01,  2.76323763e-01,  7.52594964e-01,\n",
              "         1.03711677e+00],\n",
              "       [-9.73570367e-02, -8.20199106e-01,  7.66114634e-02,\n",
              "         1.29477749e-03],\n",
              "       [ 1.19291694e+00,  5.70191892e-02,  6.39931047e-01,\n",
              "         3.89728024e-01],\n",
              "       [ 1.07561931e+00, -1.62285385e-01,  9.77922797e-01,\n",
              "         1.16659452e+00],\n",
              "       [-1.50492865e+00,  5.70191892e-02, -1.27535554e+00,\n",
              "        -1.29348271e+00],\n",
              "       [ 2.13129802e+00, -1.03950368e+00,  1.76657021e+00,\n",
              "         1.42555001e+00],\n",
              "       [ 1.54480985e+00, -1.62285385e-01,  1.14691867e+00,\n",
              "         5.19205773e-01],\n",
              "       [ 2.01400039e+00, -1.62285385e-01,  1.59757434e+00,\n",
              "         1.16659452e+00],\n",
              "       [-9.18440479e-01,  1.59215121e+00, -1.21902358e+00,\n",
              "        -1.29348271e+00],\n",
              "       [ 1.37238232e-01, -1.91672197e+00,  6.96263005e-01,\n",
              "         3.89728024e-01],\n",
              "       [-1.27033338e+00,  7.14932910e-01, -1.21902358e+00,\n",
              "        -1.29348271e+00],\n",
              "       [-1.03573811e+00,  9.34237484e-01, -1.21902358e+00,\n",
              "        -7.75571716e-01],\n",
              "       [ 1.54480985e+00,  1.15354206e+00,  1.31591455e+00,\n",
              "         1.68450551e+00],\n",
              "       [ 4.89131136e-01, -3.81589958e-01,  1.03425476e+00,\n",
              "         7.78161271e-01],\n",
              "       [ 4.89131136e-01, -1.25880825e+00,  6.96263005e-01,\n",
              "         9.07639020e-01],\n",
              "       [-8.01142844e-01,  9.34237484e-01, -1.27535554e+00,\n",
              "        -1.29348271e+00],\n",
              "       [ 1.31021458e+00,  2.76323763e-01,  5.27267130e-01,\n",
              "         2.60250275e-01],\n",
              "       [ 1.19291694e+00,  2.76323763e-01,  1.09058671e+00,\n",
              "         1.42555001e+00],\n",
              "       [ 1.54480985e+00,  2.76323763e-01,  1.25958259e+00,\n",
              "         7.78161271e-01],\n",
              "       [-5.66547575e-01,  7.14932910e-01, -1.27535554e+00,\n",
              "        -1.03452721e+00],\n",
              "       [ 4.89131136e-01, -1.25880825e+00,  6.39931047e-01,\n",
              "         3.89728024e-01],\n",
              "       [ 2.54535867e-01, -1.62285385e-01,  4.70935172e-01,\n",
              "         2.60250275e-01],\n",
              "       [ 3.71833502e-01, -1.91672197e+00,  4.14603214e-01,\n",
              "         3.89728024e-01],\n",
              "       [-2.14654671e-01, -1.62285385e-01,  2.45607338e-01,\n",
              "         1.29477749e-03],\n",
              "       [ 1.99405979e-02, -1.62285385e-01,  2.45607338e-01,\n",
              "         3.89728024e-01],\n",
              "       [-9.18440479e-01,  9.34237484e-01, -1.33168750e+00,\n",
              "        -1.29348271e+00],\n",
              "       [ 9.58321674e-01,  4.95628337e-01,  1.09058671e+00,\n",
              "         1.16659452e+00],\n",
              "       [-3.31952306e-01, -8.20199106e-01,  2.45607338e-01,\n",
              "         1.30772526e-01],\n",
              "       [ 1.07561931e+00,  2.76323763e-01,  1.20325063e+00,\n",
              "         1.42555001e+00],\n",
              "       [-5.66547575e-01,  1.81145578e+00, -1.16269162e+00,\n",
              "        -1.03452721e+00],\n",
              "       [-1.03573811e+00,  4.95628337e-01, -1.33168750e+00,\n",
              "        -1.29348271e+00],\n",
              "       [ 9.58321674e-01,  5.70191892e-02,  5.27267130e-01,\n",
              "         3.89728024e-01],\n",
              "       [-1.27033338e+00, -1.62285385e-01, -1.33168750e+00,\n",
              "        -1.16400496e+00],\n",
              "       [-1.03573811e+00, -2.35533112e+00, -1.48716370e-01,\n",
              "        -2.57660720e-01],\n",
              "       [-1.50492865e+00,  2.76323763e-01, -1.33168750e+00,\n",
              "        -1.29348271e+00]])"
            ]
          },
          "metadata": {},
          "execution_count": 13
        }
      ]
    },
    {
      "cell_type": "markdown",
      "source": [
        "In this step, we introduce the class GaussianNB that is used from the sklearn.naive_bayes library. Here, we have used a Gaussian model, there are several other models such as Bernoulli, Categorical and Multinomial. Here, we assign the GaussianNB class to the variable classifier and fit the X_train and y_train values to it for training purpose."
      ],
      "metadata": {
        "id": "fHscTWiVt8pC"
      }
    },
    {
      "cell_type": "code",
      "source": [
        "#Implement Naive Bayes\n",
        "from sklearn.naive_bayes import GaussianNB\n",
        "from sklearn.metrics import confusion_matrix,classification_report,accuracy_score\n",
        "scores=[]\n",
        "classifier=GaussianNB()\n",
        "classifier.fit(Xtrain,y_train)"
      ],
      "metadata": {
        "id": "u0z9mzISuBKw",
        "colab": {
          "base_uri": "https://localhost:8080/"
        },
        "outputId": "54d27e85-2765-4a43-bb87-b99339e94ef8"
      },
      "execution_count": null,
      "outputs": [
        {
          "output_type": "execute_result",
          "data": {
            "text/plain": [
              "GaussianNB()"
            ]
          },
          "metadata": {},
          "execution_count": 14
        }
      ]
    },
    {
      "cell_type": "code",
      "source": [
        "#Predict the values for test data  \n",
        "y_pred=classifier.predict(Xtest)\n",
        "# Display accuracy score & display confusion matrix & classification report\n",
        "print(accuracy_score(y_test,y_pred))\n",
        "cm=confusion_matrix(y_test,y_pred)\n",
        "print(\"\\nConfusion Matrix\\n-----------------\\n\",cm)\n",
        "print()\n",
        "print(classification_report(y_test,y_pred))"
      ],
      "metadata": {
        "id": "hv382A48usEq",
        "colab": {
          "base_uri": "https://localhost:8080/"
        },
        "outputId": "7214fd7d-0008-4302-b542-c9595d2e384b"
      },
      "execution_count": null,
      "outputs": [
        {
          "output_type": "stream",
          "name": "stdout",
          "text": [
            "0.92\n",
            "\n",
            "Confusion Matrix\n",
            "-----------------\n",
            " [[16  0  0]\n",
            " [ 0 16  1]\n",
            " [ 0  3 14]]\n",
            "\n",
            "              precision    recall  f1-score   support\n",
            "\n",
            "           0       1.00      1.00      1.00        16\n",
            "           1       0.84      0.94      0.89        17\n",
            "           2       0.93      0.82      0.87        17\n",
            "\n",
            "    accuracy                           0.92        50\n",
            "   macro avg       0.93      0.92      0.92        50\n",
            "weighted avg       0.92      0.92      0.92        50\n",
            "\n"
          ]
        }
      ]
    },
    {
      "cell_type": "code",
      "source": [
        "from sklearn.naive_bayes import BernoulliNB\n",
        "scores=[]\n",
        "classifier1=BernoulliNB()\n",
        "classifier1.fit(Xtrain,y_train)\n",
        "y_pred=classifier1.predict(Xtest)\n",
        "print(accuracy_score(y_test,y_pred))\n",
        "cm=confusion_matrix(y_test,y_pred)\n",
        "print(\"\\nConfusion Matrix\\n-----------------\\n\",cm)\n",
        "print()\n",
        "print(classification_report(y_test,y_pred))"
      ],
      "metadata": {
        "colab": {
          "base_uri": "https://localhost:8080/"
        },
        "id": "FlG6xe2gBo7H",
        "outputId": "af6e688c-c9e6-495a-bd9b-fcdccbecef3a"
      },
      "execution_count": null,
      "outputs": [
        {
          "output_type": "stream",
          "name": "stdout",
          "text": [
            "0.82\n",
            "\n",
            "Confusion Matrix\n",
            "-----------------\n",
            " [[16  0  0]\n",
            " [ 2  9  6]\n",
            " [ 0  1 16]]\n",
            "\n",
            "              precision    recall  f1-score   support\n",
            "\n",
            "           0       0.89      1.00      0.94        16\n",
            "           1       0.90      0.53      0.67        17\n",
            "           2       0.73      0.94      0.82        17\n",
            "\n",
            "    accuracy                           0.82        50\n",
            "   macro avg       0.84      0.82      0.81        50\n",
            "weighted avg       0.84      0.82      0.81        50\n",
            "\n"
          ]
        }
      ]
    },
    {
      "cell_type": "markdown",
      "source": [
        "From the above confusion matrix, we infer that, out of 45 test set data, 44 were correctly classified and only 1 was incorrectly classified. This gives us a high accuracy of 97.7%."
      ],
      "metadata": {
        "id": "JFg1mUCswAIp"
      }
    }
  ]
}