{
  "nbformat": 4,
  "nbformat_minor": 0,
  "metadata": {
    "colab": {
      "name": "CO1-Histogram & Countplot-Aswathy_25-11-2021",
      "provenance": [],
      "collapsed_sections": [],
      "include_colab_link": true
    },
    "kernelspec": {
      "name": "python3",
      "display_name": "Python 3"
    }
  },
  "cells": [
    {
      "cell_type": "markdown",
      "metadata": {
        "id": "view-in-github",
        "colab_type": "text"
      },
      "source": [
        "<a href=\"https://colab.research.google.com/github/aswathypkarun/DataScience-Lab/blob/main/CO1_Histogram_%26_Countplot_Aswathy_25_11_2021.ipynb\" target=\"_parent\"><img src=\"https://colab.research.google.com/assets/colab-badge.svg\" alt=\"Open In Colab\"/></a>"
      ]
    },
    {
      "cell_type": "markdown",
      "metadata": {
        "id": "0dG-Pm9-UpYh"
      },
      "source": [
        "#### Activity 1: Create Customized Line plots.\n",
        "\n",
        "Given the dataset of the average annual salary (in dollars) of developers of various programming languages. Create customized line plots to compare the salary variations **Age-wise** for **Python** developer with **Javascript** developer.\n",
        "\n",
        "**Link to the Dataset**: https://raw.githubusercontent.com/CoreyMSchafer/code_snippets/master/Python/Matplotlib/10-Subplots/data.csv "
      ]
    },
    {
      "cell_type": "code",
      "metadata": {
        "id": "yYlWfTFxUx8C",
        "colab": {
          "base_uri": "https://localhost:8080/",
          "height": 206
        },
        "outputId": "0ad528b5-52ef-4017-ba76-ee54ea34a19b"
      },
      "source": [
        "# Step 1: Import necessary modules to create dataframe and line plots \n",
        "import pandas as pd\n",
        "\n",
        "# Step 2: Create a Dataframe and store it in a variable from the given dataset\n",
        "df=pd.read_csv('https://raw.githubusercontent.com/CoreyMSchafer/code_snippets/master/Python/Matplotlib/10-Subplots/data.csv')\n",
        "\n",
        "\n",
        "# Print the first 5 rows in the DataFrame\n",
        "df.head()\n"
      ],
      "execution_count": null,
      "outputs": [
        {
          "output_type": "execute_result",
          "data": {
            "text/html": [
              "<div>\n",
              "<style scoped>\n",
              "    .dataframe tbody tr th:only-of-type {\n",
              "        vertical-align: middle;\n",
              "    }\n",
              "\n",
              "    .dataframe tbody tr th {\n",
              "        vertical-align: top;\n",
              "    }\n",
              "\n",
              "    .dataframe thead th {\n",
              "        text-align: right;\n",
              "    }\n",
              "</style>\n",
              "<table border=\"1\" class=\"dataframe\">\n",
              "  <thead>\n",
              "    <tr style=\"text-align: right;\">\n",
              "      <th></th>\n",
              "      <th>Age</th>\n",
              "      <th>All_Devs</th>\n",
              "      <th>Python</th>\n",
              "      <th>JavaScript</th>\n",
              "    </tr>\n",
              "  </thead>\n",
              "  <tbody>\n",
              "    <tr>\n",
              "      <th>0</th>\n",
              "      <td>18</td>\n",
              "      <td>17784</td>\n",
              "      <td>20046</td>\n",
              "      <td>16446</td>\n",
              "    </tr>\n",
              "    <tr>\n",
              "      <th>1</th>\n",
              "      <td>19</td>\n",
              "      <td>16500</td>\n",
              "      <td>17100</td>\n",
              "      <td>16791</td>\n",
              "    </tr>\n",
              "    <tr>\n",
              "      <th>2</th>\n",
              "      <td>20</td>\n",
              "      <td>18012</td>\n",
              "      <td>20000</td>\n",
              "      <td>18942</td>\n",
              "    </tr>\n",
              "    <tr>\n",
              "      <th>3</th>\n",
              "      <td>21</td>\n",
              "      <td>20628</td>\n",
              "      <td>24744</td>\n",
              "      <td>21780</td>\n",
              "    </tr>\n",
              "    <tr>\n",
              "      <th>4</th>\n",
              "      <td>22</td>\n",
              "      <td>25206</td>\n",
              "      <td>30500</td>\n",
              "      <td>25704</td>\n",
              "    </tr>\n",
              "  </tbody>\n",
              "</table>\n",
              "</div>"
            ],
            "text/plain": [
              "   Age  All_Devs  Python  JavaScript\n",
              "0   18     17784   20046       16446\n",
              "1   19     16500   17100       16791\n",
              "2   20     18012   20000       18942\n",
              "3   21     20628   24744       21780\n",
              "4   22     25206   30500       25704"
            ]
          },
          "metadata": {},
          "execution_count": 2
        }
      ]
    },
    {
      "cell_type": "code",
      "metadata": {
        "id": "KYfflY2cd3Ow",
        "colab": {
          "base_uri": "https://localhost:8080/",
          "height": 400
        },
        "outputId": "50515383-2c72-4c58-ea5e-360173dca905"
      },
      "source": [
        "# Step 3: Create a customised line plot for comparing the Age-wise annual salary variations for Python developer with JavaScript developer.  Use the 'seaborn-dark' style\n",
        "import matplotlib.pyplot as plt\n",
        "import numpy as np\n",
        "plt.style.use('seaborn-dark')\n",
        "plt.figure(figsize=(10,6))\n",
        "plt.title('Comparing the Age-wise annual salary variations for Python developer with JavaScript developer')\n",
        "plt.plot(df['Python'],'r-o',label='Python')\n",
        "plt.plot(df['JavaScript'],'g-o',label='JavaScript')\n",
        "plt.ylabel('salary')\n",
        "plt.xlabel('Age')\n",
        "plt.legend()\n",
        "plt.grid()\n",
        "plt.show()"
      ],
      "execution_count": null,
      "outputs": [
        {
          "output_type": "display_data",
          "data": {
            "image/png": "[encoded data removed]",
            "text/plain": [
              "<Figure size 720x432 with 1 Axes>"
            ]
          },
          "metadata": {}
        }
      ]
    },
    {
      "cell_type": "markdown",
      "metadata": {
        "id": "PLSY4nu0UzCj"
      },
      "source": [
        "**Q**: What can you conclude from the above comparison ?\n",
        "\n",
        "**A**: Python developers annual salary more than JavaScript developers"
      ]
    },
    {
      "cell_type": "markdown",
      "metadata": {
        "id": "BVT9G_baB1aq"
      },
      "source": [
        "#### Activity 2.1: Create a Pandas DataFrame\n",
        "\n",
        "Create a Pandas DataFrame by using the below link which has the dataset of Tips taken on the total bill amount in restaurants in the CSV format: \n",
        "\n",
        "**Dataset Link** : https://raw.githubusercontent.com/jiss-github123/tips/main/tips.csv\n",
        "\n",
        "Also, print the first five rows of the dataset."
      ]
    },
    {
      "cell_type": "code",
      "metadata": {
        "id": "0pIGxKG9B3mb",
        "colab": {
          "base_uri": "https://localhost:8080/",
          "height": 206
        },
        "outputId": "d42d1ab4-ce66-49c3-e3c3-878215a64592"
      },
      "source": [
        "# Create a pandas DataFrame\n",
        "import pandas as pd\n",
        "df=pd.read_csv('https://raw.githubusercontent.com/jiss-github123/tips/main/tips.csv')\n",
        "df.head()"
      ],
      "execution_count": null,
      "outputs": [
        {
          "output_type": "execute_result",
          "data": {
            "text/html": [
              "<div>\n",
              "<style scoped>\n",
              "    .dataframe tbody tr th:only-of-type {\n",
              "        vertical-align: middle;\n",
              "    }\n",
              "\n",
              "    .dataframe tbody tr th {\n",
              "        vertical-align: top;\n",
              "    }\n",
              "\n",
              "    .dataframe thead th {\n",
              "        text-align: right;\n",
              "    }\n",
              "</style>\n",
              "<table border=\"1\" class=\"dataframe\">\n",
              "  <thead>\n",
              "    <tr style=\"text-align: right;\">\n",
              "      <th></th>\n",
              "      <th>total_bill</th>\n",
              "      <th>tip</th>\n",
              "      <th>sex</th>\n",
              "      <th>smoker</th>\n",
              "      <th>day</th>\n",
              "      <th>time</th>\n",
              "      <th>size</th>\n",
              "    </tr>\n",
              "  </thead>\n",
              "  <tbody>\n",
              "    <tr>\n",
              "      <th>0</th>\n",
              "      <td>16.99</td>\n",
              "      <td>1.01</td>\n",
              "      <td>Female</td>\n",
              "      <td>No</td>\n",
              "      <td>Sun</td>\n",
              "      <td>Dinner</td>\n",
              "      <td>2</td>\n",
              "    </tr>\n",
              "    <tr>\n",
              "      <th>1</th>\n",
              "      <td>10.34</td>\n",
              "      <td>1.66</td>\n",
              "      <td>Male</td>\n",
              "      <td>No</td>\n",
              "      <td>Sun</td>\n",
              "      <td>Dinner</td>\n",
              "      <td>3</td>\n",
              "    </tr>\n",
              "    <tr>\n",
              "      <th>2</th>\n",
              "      <td>21.01</td>\n",
              "      <td>3.50</td>\n",
              "      <td>Male</td>\n",
              "      <td>No</td>\n",
              "      <td>Sun</td>\n",
              "      <td>Dinner</td>\n",
              "      <td>3</td>\n",
              "    </tr>\n",
              "    <tr>\n",
              "      <th>3</th>\n",
              "      <td>23.68</td>\n",
              "      <td>3.31</td>\n",
              "      <td>Male</td>\n",
              "      <td>No</td>\n",
              "      <td>Sun</td>\n",
              "      <td>Dinner</td>\n",
              "      <td>2</td>\n",
              "    </tr>\n",
              "    <tr>\n",
              "      <th>4</th>\n",
              "      <td>24.59</td>\n",
              "      <td>3.61</td>\n",
              "      <td>Female</td>\n",
              "      <td>No</td>\n",
              "      <td>Sun</td>\n",
              "      <td>Dinner</td>\n",
              "      <td>4</td>\n",
              "    </tr>\n",
              "  </tbody>\n",
              "</table>\n",
              "</div>"
            ],
            "text/plain": [
              "   total_bill   tip     sex smoker  day    time  size\n",
              "0       16.99  1.01  Female     No  Sun  Dinner     2\n",
              "1       10.34  1.66    Male     No  Sun  Dinner     3\n",
              "2       21.01  3.50    Male     No  Sun  Dinner     3\n",
              "3       23.68  3.31    Male     No  Sun  Dinner     2\n",
              "4       24.59  3.61  Female     No  Sun  Dinner     4"
            ]
          },
          "metadata": {},
          "execution_count": 6
        }
      ]
    },
    {
      "cell_type": "markdown",
      "metadata": {
        "id": "g5ojkSnpCnQg"
      },
      "source": [
        "#### Activity 2.2: Create a Gender wise Count plot\n",
        "\n",
        "Create a gender wise count plot by using the values in the `sex` column. "
      ]
    },
    {
      "cell_type": "code",
      "metadata": {
        "id": "UlGejEowCtAE",
        "colab": {
          "base_uri": "https://localhost:8080/",
          "height": 385
        },
        "outputId": "0b87ae32-e0bd-4cbb-c1ad-ec2176a54c76"
      },
      "source": [
        "# Gender wise count plot for the 'sex' values in the 'tip_df' DataFrame on the x-axis.\n",
        "import matplotlib.pyplot as plt\n",
        "import seaborn as sns\n",
        "plt.figure(figsize=(10,6))\n",
        "sns.countplot(x='sex',data=df)\n",
        "plt.grid()\n",
        "plt.show()\n",
        "\n"
      ],
      "execution_count": null,
      "outputs": [
        {
          "output_type": "display_data",
          "data": {
            "image/png": "[encoded data removed]",
            "text/plain": [
              "<Figure size 720x432 with 1 Axes>"
            ]
          },
          "metadata": {}
        }
      ]
    },
    {
      "cell_type": "markdown",
      "metadata": {
        "id": "HSb3LhQkCyEZ"
      },
      "source": [
        "So according to the above count plot, the number of `Female` is less than the number of `Male` in the dataset."
      ]
    },
    {
      "cell_type": "markdown",
      "metadata": {
        "id": "EWT5qwtSCzrD"
      },
      "source": [
        "**Q** : Which gender is recorded more in the dataset ?\n",
        "\n",
        "**A** :Male"
      ]
    },
    {
      "cell_type": "markdown",
      "metadata": {
        "id": "PIqqLcdHnrwG"
      },
      "source": [
        "#### Activity 3: Histogram using `hist()` Function\n",
        "\n",
        "Given a list of random age of 100 individuals in a range between 1 and 91. Write a code to visualise the values in the list using a histogram.\n",
        "\n",
        "```\n",
        "age_list = [1,1,2,3,3,5,7,8,9,10,\n",
        "     10,11,11,13,13,15,16,17,18,18,\n",
        "     18,19,20,21,21,23,24,24,25,25,\n",
        "     25,25,26,26,26,27,27,27,27,27,\n",
        "     29,30,30,31,33,34,34,34,35,36,\n",
        "     36,37,37,38,38,39,40,41,41,42,\n",
        "     43,44,45,45,46,47,48,48,49,50,\n",
        "     51,52,53,54,55,55,56,57,58,60,\n",
        "     61,63,64,65,66,68,70,71,72,74,\n",
        "     75,77,81,83,84,87,89,90,90,91\n",
        "     ]\n",
        "```\n",
        "\n",
        "**Steps to Follow**:\n",
        "\n",
        "1. Import the `matplotlib.pyplot` module.\n",
        "\n",
        "2. Set the size of the plot using the `figsize` attribute of the `figure()` function.\n",
        "\n",
        "3. Pass the `age_list` list inside the `hist()` function and set `bins = 10`.\n",
        "\n",
        "4. Display the histogram using the `show()` function of the `matplotlib.pyplot` module."
      ]
    },
    {
      "cell_type": "code",
      "metadata": {
        "id": "m6KfoItXnrwR",
        "colab": {
          "base_uri": "https://localhost:8080/",
          "height": 371
        },
        "outputId": "2264c7ea-aaad-4fa2-8cd7-388d7872cad0"
      },
      "source": [
        "\n",
        "# Import the 'matplotlib.pyplot' module.\n",
        "import matplotlib.pyplot as plt\n",
        "age_list = [1,1,2,3,3,5,7,8,9,10,\n",
        "     10,11,11,13,13,15,16,17,18,18,\n",
        "     18,19,20,21,21,23,24,24,25,25,\n",
        "     25,25,26,26,26,27,27,27,27,27,\n",
        "     29,30,30,31,33,34,34,34,35,36,\n",
        "     36,37,37,38,38,39,40,41,41,42,\n",
        "     43,44,45,45,46,47,48,48,49,50,\n",
        "     51,52,53,54,55,55,56,57,58,60,\n",
        "     61,63,64,65,66,68,70,71,72,74,\n",
        "     75,77,81,83,84,87,89,90,90,91\n",
        "     ]\n",
        "# Set the size of the plot using the 'figsize' attribute of the 'figure()' function.\n",
        "plt.figure(figsize=(10,6))\n",
        "\n",
        "# Pass the 'age_list' list inside the 'hist()' function and set 'bins = 10'.\n",
        "plt.hist(age_list,bins=10,color='red')\n",
        "\n",
        "# Display the histogram using the 'show()' function of the 'matplotlib.pyplot' module.\n",
        "plt.show()"
      ],
      "execution_count": null,
      "outputs": [
        {
          "output_type": "display_data",
          "data": {
            "image/png": "[encoded data removed]",
            "text/plain": [
              "<Figure size 720x432 with 1 Axes>"
            ]
          },
          "metadata": {}
        }
      ]
    }
  ]
}